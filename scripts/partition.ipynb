{
 "cells": [
  {
   "cell_type": "code",
   "execution_count": 2,
   "id": "a5686db6",
   "metadata": {},
   "outputs": [
    {
     "name": "stderr",
     "output_type": "stream",
     "text": [
      "25/09/12 02:54:23 WARN Dispatcher: Message RemoteProcessDisconnected(172.18.0.11:45894) dropped. Could not find BlockManagerEndpoint1.\n"
     ]
    },
    {
     "name": "stdout",
     "output_type": "stream",
     "text": [
      "✅ Sesión anterior cerrada\n",
      "✅ Spark version: 2.4.5\n",
      "✅ Master URL: spark://spark-master:7077\n",
      "✅ Spark reiniciado con driver JDBC\n"
     ]
    }
   ],
   "source": [
    "from pyspark.sql import SparkSession\n",
    "\n",
    "# Cerrar sesión actual\n",
    "try:\n",
    "    spark.stop()\n",
    "    print(\"✅ Sesión anterior cerrada\")\n",
    "except:\n",
    "    print(\"ℹ️ No había sesión previa\")\n",
    "\n",
    "# Reiniciar con configuración explícita del JAR\n",
    "spark = (SparkSession.builder\n",
    "    .appName(\"Validacion-partition\")\n",
    "    .master(\"spark://spark-master:7077\")\n",
    "    .config(\"spark.executor.instances\", \"1\")\n",
    "    .config(\"spark.executor.cores\", \"1\")\n",
    "    .config(\"spark.executor.memory\", \"2g\")\n",
    "    .config(\"spark.driver.memory\", \"1g\")\n",
    "    .config(\"spark.jars\", \"/opt/spark/jars/mssql-jdbc-13.2.0.jre8.jar\")\n",
    "    .config(\"spark.driver.extraClassPath\", \"/opt/spark/jars/mssql-jdbc-13.2.0.jre8.jar\")\n",
    "    .config(\"spark.executor.extraClassPath\", \"/opt/spark/jars/mssql-jdbc-13.2.0.jre8.jar\")\n",
    "    .enableHiveSupport()\n",
    "    .getOrCreate())\n",
    "\n",
    "print(\"✅ Spark version:\", spark.version)\n",
    "print(\"✅ Master URL:\", spark.sparkContext.master)\n",
    "print(\"✅ Spark reiniciado con driver JDBC\")"
   ]
  },
  {
   "cell_type": "code",
   "execution_count": 3,
   "id": "54d5eec9",
   "metadata": {},
   "outputs": [
    {
     "name": "stdout",
     "output_type": "stream",
     "text": [
      "Número de particiones iniciales: 2\n"
     ]
    }
   ],
   "source": [
    "# Crear un DataFrame con 1 millón de registros\n",
    "df = spark.range(0, 1_000_000)\n",
    "print(\"Número de particiones iniciales:\", df.rdd.getNumPartitions())\n"
   ]
  },
  {
   "cell_type": "code",
   "execution_count": 4,
   "id": "b257adad",
   "metadata": {},
   "outputs": [
    {
     "name": "stdout",
     "output_type": "stream",
     "text": [
      "Particiones después de repartition(20): 20\n"
     ]
    }
   ],
   "source": [
    "# Aumentar particiones (shuffle)\n",
    "df_repart = df.repartition(20)\n",
    "print(\"Particiones después de repartition(20):\", df_repart.rdd.getNumPartitions())\n"
   ]
  },
  {
   "cell_type": "code",
   "execution_count": 17,
   "id": "e12f9464",
   "metadata": {},
   "outputs": [],
   "source": [
    "data_hdfs = \"hdfs://namenode:8020/bronze/practica/\""
   ]
  },
  {
   "cell_type": "code",
   "execution_count": 22,
   "id": "f4179561",
   "metadata": {},
   "outputs": [
    {
     "name": "stderr",
     "output_type": "stream",
     "text": [
      "                                                                                \r"
     ]
    }
   ],
   "source": [
    "df_repart.write.mode(\"overwrite\").parquet(data_hdfs)\n"
   ]
  },
  {
   "cell_type": "code",
   "execution_count": 23,
   "id": "7d62863b",
   "metadata": {},
   "outputs": [],
   "source": [
    "df=df_repart"
   ]
  },
  {
   "cell_type": "code",
   "execution_count": 24,
   "id": "7a8d3061",
   "metadata": {},
   "outputs": [
    {
     "name": "stdout",
     "output_type": "stream",
     "text": [
      "+------+\n",
      "|    id|\n",
      "+------+\n",
      "|956256|\n",
      "|660444|\n",
      "|683865|\n",
      "|510992|\n",
      "|964350|\n",
      "|590703|\n",
      "|623570|\n",
      "|651757|\n",
      "|562552|\n",
      "|585251|\n",
      "|743592|\n",
      "|836189|\n",
      "|963551|\n",
      "|680118|\n",
      "|919581|\n",
      "|890615|\n",
      "|950043|\n",
      "|923748|\n",
      "|953942|\n",
      "|503586|\n",
      "+------+\n",
      "only showing top 20 rows\n",
      "\n"
     ]
    }
   ],
   "source": [
    "df.show()"
   ]
  },
  {
   "cell_type": "code",
   "execution_count": 26,
   "id": "fc2deb30",
   "metadata": {},
   "outputs": [
    {
     "name": "stderr",
     "output_type": "stream",
     "text": [
      "                                                                                \r"
     ]
    },
    {
     "data": {
      "text/plain": [
       "1000000"
      ]
     },
     "execution_count": 26,
     "metadata": {},
     "output_type": "execute_result"
    }
   ],
   "source": [
    "df.cache()\n",
    "df.count()"
   ]
  },
  {
   "cell_type": "code",
   "execution_count": 12,
   "id": "27c72c52",
   "metadata": {},
   "outputs": [],
   "source": [
    "df1=df"
   ]
  },
  {
   "cell_type": "code",
   "execution_count": 27,
   "id": "3c527e60",
   "metadata": {},
   "outputs": [
    {
     "name": "stderr",
     "output_type": "stream",
     "text": [
      "                                                                                \r"
     ]
    }
   ],
   "source": [
    "df.coalesce(2).write.mode(\"overwrite\").parquet(data_hdfs)"
   ]
  },
  {
   "cell_type": "code",
   "execution_count": 28,
   "id": "8d149223",
   "metadata": {},
   "outputs": [
    {
     "name": "stdout",
     "output_type": "stream",
     "text": [
      "+------+\n",
      "|    id|\n",
      "+------+\n",
      "| 29077|\n",
      "|241354|\n",
      "|470868|\n",
      "|266683|\n",
      "|198432|\n",
      "|307106|\n",
      "|247056|\n",
      "| 94811|\n",
      "|265530|\n",
      "|284196|\n",
      "| 78042|\n",
      "| 70560|\n",
      "| 78714|\n",
      "|210265|\n",
      "|338262|\n",
      "|135195|\n",
      "|267404|\n",
      "|299700|\n",
      "|355065|\n",
      "|121636|\n",
      "+------+\n",
      "only showing top 20 rows\n",
      "\n"
     ]
    }
   ],
   "source": [
    "df=spark.read.parquet(data_hdfs)\n",
    "df.show()"
   ]
  },
  {
   "cell_type": "code",
   "execution_count": 29,
   "id": "3c11074d",
   "metadata": {},
   "outputs": [],
   "source": [
    "spark.catalog.clearCache()"
   ]
  },
  {
   "cell_type": "code",
   "execution_count": 30,
   "id": "2f02c962",
   "metadata": {},
   "outputs": [],
   "source": [
    "spark.stop()"
   ]
  }
 ],
 "metadata": {
  "kernelspec": {
   "display_name": "Python 3 (ipykernel)",
   "language": "python",
   "name": "python3"
  },
  "language_info": {
   "codemirror_mode": {
    "name": "ipython",
    "version": 3
   },
   "file_extension": ".py",
   "mimetype": "text/x-python",
   "name": "python",
   "nbconvert_exporter": "python",
   "pygments_lexer": "ipython3",
   "version": "3.7.12"
  }
 },
 "nbformat": 4,
 "nbformat_minor": 5
}

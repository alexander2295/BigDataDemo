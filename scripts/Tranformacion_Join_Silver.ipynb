{
 "cells": [
  {
   "cell_type": "markdown",
   "id": "e5090cb8",
   "metadata": {},
   "source": [
    "### Tranformaciones y Join ###\n",
    "\n"
   ]
  },
  {
   "cell_type": "markdown",
   "id": "b7054ac4",
   "metadata": {},
   "source": []
  },
  {
   "cell_type": "code",
   "execution_count": 4,
   "id": "402700df",
   "metadata": {},
   "outputs": [
    {
     "name": "stdout",
     "output_type": "stream",
     "text": [
      "ℹ️ No había sesión previa\n"
     ]
    },
    {
     "name": "stderr",
     "output_type": "stream",
     "text": [
      "25/09/15 15:22:55 WARN NativeCodeLoader: Unable to load native-hadoop library for your platform... using builtin-java classes where applicable\n",
      "Using Spark's default log4j profile: org/apache/spark/log4j-defaults.properties\n",
      "Setting default log level to \"WARN\".\n",
      "To adjust logging level use sc.setLogLevel(newLevel). For SparkR, use setLogLevel(newLevel).\n"
     ]
    },
    {
     "name": "stdout",
     "output_type": "stream",
     "text": [
      "✅ Spark version: 2.4.5\n"
     ]
    }
   ],
   "source": [
    "from pyspark.sql import SparkSession\n",
    "\n",
    "# Cerrar sesión actual\n",
    "try:\n",
    "    spark.stop()\n",
    "    print(\"✅ Sesión anterior cerrada\")\n",
    "except:\n",
    "    print(\"ℹ️ No había sesión previa\")\n",
    "\n",
    "# Reiniciar con configuración explícita del JAR\n",
    "spark = (SparkSession.builder\n",
    "    .appName(\"Validacion-incremental\")\n",
    "    .master(\"spark://spark-master:7077\")\n",
    "    .config(\"spark.executor.instances\", \"1\")\n",
    "    .config(\"spark.executor.cores\", \"1\")\n",
    "    .config(\"spark.executor.memory\", \"2g\")\n",
    "    .config(\"spark.driver.memory\", \"1g\")\n",
    "    .config(\"spark.jars\", \"/opt/spark/jars/mssql-jdbc-13.2.0.jre8.jar\")\n",
    "    .config(\"spark.driver.extraClassPath\", \"/opt/spark/jars/mssql-jdbc-13.2.0.jre8.jar\")\n",
    "    .config(\"spark.executor.extraClassPath\", \"/opt/spark/jars/mssql-jdbc-13.2.0.jre8.jar\")\n",
    "    .enableHiveSupport()\n",
    "    .getOrCreate())\n",
    "\n",
    "print(\"✅ Spark version:\", spark.version)"
   ]
  },
  {
   "cell_type": "code",
   "execution_count": null,
   "id": "7f8ab46b",
   "metadata": {},
   "outputs": [
    {
     "name": "stdout",
     "output_type": "stream",
     "text": [
      "+---------+--------------+--------------------+----------+--------------------+--------------------+\n",
      "|ClienteID|        Nombre|               Email|  Telefono|          CreateTime|          UpdateTime|\n",
      "+---------+--------------+--------------------+----------+--------------------+--------------------+\n",
      "|        1|    Juan Pérez|juan.perez@email.com| 089000100|2025-08-24 21:27:...|2025-08-24 21:31:...|\n",
      "|        2|   María López|maria22.nueva@ema...|0987654321|2025-08-24 21:27:...|2025-08-24 21:31:...|\n",
      "|        3|   Carlos Ruiz|carlos.ruiz@email...|0971122334|2025-08-24 21:27:...|                null|\n",
      "|        4|    Ana Torres|ana.torres@email.com|0965544332|2025-08-24 21:27:...|                null|\n",
      "|        5|   Pedro Gómez|pedro.gomez@email...|0956677889|2025-08-24 21:27:...|                null|\n",
      "|        7|     leo Pérez| leo.perez@email.com|0991234522|2025-08-29 19:50:...|                null|\n",
      "|       12|          dary|  dary.pez@email.com|0991234567|2025-09-10 22:19:...|                null|\n",
      "|       10|       san Per|juan11.pez@email.com|0991234567|2025-09-10 21:51:...|                null|\n",
      "|       11|   san maria L|ma222.lopez@email...|0987654321|2025-09-10 21:51:...|                null|\n",
      "|       13|  leodan toala|juan.toala@email.com|0991234567|2025-09-11 16:02:...|                null|\n",
      "|       14|fabricio total|maria.totala@emai...|0987654321|2025-09-11 16:03:...|                null|\n",
      "|       15|   Carlos Ruiz|carlos.toala@emai...|0971122334|2025-09-11 16:03:...|                null|\n",
      "|        7|     leo Pérez| leo.perez@email.com|0991234522|2025-08-29 19:50:...|                null|\n",
      "|        8|      Juan Per|  juan.pez@email.com|0991234567|2025-09-10 19:41:...|                null|\n",
      "|        9|       Maria L|  ma.lopez@email.com|0987654321|2025-09-10 19:41:...|                null|\n",
      "+---------+--------------+--------------------+----------+--------------------+--------------------+\n",
      "\n"
     ]
    }
   ],
   "source": [
    "df_cliente= spark.read.parquet(\"hdfs://namenode:8020/bronze/clientes\")\n",
    "df_pedidos= spark.read.parquet(\"hdfs://namenode:8020/bronze/df_pedidos\")\n",
    "df_cliente.show(30)"
   ]
  },
  {
   "cell_type": "code",
   "execution_count": 8,
   "id": "89ffb91f",
   "metadata": {},
   "outputs": [
    {
     "name": "stdout",
     "output_type": "stream",
     "text": [
      "+--------+---------+------+-----------+--------------------+----------+\n",
      "|PedidoID|ClienteID| Monto|FechaPedido|          CreateTime|UpdateTime|\n",
      "+--------+---------+------+-----------+--------------------+----------+\n",
      "|       1|        1|150.50| 2025-09-01|2025-09-14 19:36:...|      null|\n",
      "|       2|        2|200.00| 2025-09-02|2025-09-14 19:36:...|      null|\n",
      "|       3|        3| 50.00| 2025-09-03|2025-09-14 19:36:...|      null|\n",
      "|       4|        4|300.00| 2025-09-04|2025-09-14 19:36:...|      null|\n",
      "|       5|        5|120.00| 2025-09-05|2025-09-14 19:36:...|      null|\n",
      "|       6|        1| 80.00| 2025-09-06|2025-09-14 19:36:...|      null|\n",
      "|       7|        2| 60.00| 2025-09-07|2025-09-14 19:36:...|      null|\n",
      "|       8|        3| 90.00| 2025-09-08|2025-09-14 19:36:...|      null|\n",
      "|       9|        4|110.00| 2025-09-09|2025-09-14 19:36:...|      null|\n",
      "|      10|        5| 75.00| 2025-09-10|2025-09-14 19:36:...|      null|\n",
      "|      11|        7| 95.00| 2025-09-11|2025-09-14 19:36:...|      null|\n",
      "|      12|        8|180.00| 2025-09-12|2025-09-14 19:36:...|      null|\n",
      "|      13|        9|210.00| 2025-09-13|2025-09-14 19:36:...|      null|\n",
      "|      14|       10| 50.00| 2025-09-14|2025-09-14 19:36:...|      null|\n",
      "|      15|       11| 60.00| 2025-09-14|2025-09-14 19:36:...|      null|\n",
      "|      16|       12| 70.00| 2025-09-12|2025-09-14 19:36:...|      null|\n",
      "|      17|       13|200.00| 2025-09-13|2025-09-14 19:36:...|      null|\n",
      "|      18|       14|130.00| 2025-09-10|2025-09-14 19:36:...|      null|\n",
      "|      19|       15| 90.00| 2025-09-11|2025-09-14 19:36:...|      null|\n",
      "|      20|        1|150.00| 2025-09-14|2025-09-14 19:36:...|      null|\n",
      "+--------+---------+------+-----------+--------------------+----------+\n",
      "\n"
     ]
    }
   ],
   "source": [
    "df_pedidos= spark.read.parquet(\"hdfs://namenode:8020/bronze/df_pedidos\")\n",
    "df_pedidos.show(30)"
   ]
  },
  {
   "cell_type": "code",
   "execution_count": 18,
   "id": "641bd907",
   "metadata": {},
   "outputs": [],
   "source": [
    "from pyspark.sql.functions import broadcast, col\n",
    "join_pedidos_df = df_pedidos.alias(\"p\").join(broadcast(df_cliente.alias(\"c\")), on=\"ClienteID\", how=\"inner\").\\\n",
    "select(\n",
    "        col(\"p.PedidoID\"),\n",
    "        col(\"p.ClienteID\"),\n",
    "        col(\"c.Nombre\"),\n",
    "        col(\"c.Email\"),\n",
    "        col(\"p.Monto\"),\n",
    "        col(\"p.FechaPedido\"),\n",
    "        col(\"p.CreateTime\").alias(\"PedidoCreateTime\"),\n",
    "        col(\"c.CreateTime\").alias(\"ClienteCreateTime\")\n",
    "    )"
   ]
  },
  {
   "cell_type": "code",
   "execution_count": 19,
   "id": "c840e455",
   "metadata": {},
   "outputs": [
    {
     "name": "stdout",
     "output_type": "stream",
     "text": [
      "+--------+---------+--------------+--------------------+------+-----------+--------------------+--------------------+\n",
      "|PedidoID|ClienteID|        Nombre|               Email| Monto|FechaPedido|    PedidoCreateTime|   ClienteCreateTime|\n",
      "+--------+---------+--------------+--------------------+------+-----------+--------------------+--------------------+\n",
      "|       1|        1|    Juan Pérez|juan.perez@email.com|150.50| 2025-09-01|2025-09-14 19:36:...|2025-08-24 21:27:...|\n",
      "|       2|        2|   María López|maria22.nueva@ema...|200.00| 2025-09-02|2025-09-14 19:36:...|2025-08-24 21:27:...|\n",
      "|       3|        3|   Carlos Ruiz|carlos.ruiz@email...| 50.00| 2025-09-03|2025-09-14 19:36:...|2025-08-24 21:27:...|\n",
      "|       4|        4|    Ana Torres|ana.torres@email.com|300.00| 2025-09-04|2025-09-14 19:36:...|2025-08-24 21:27:...|\n",
      "|       5|        5|   Pedro Gómez|pedro.gomez@email...|120.00| 2025-09-05|2025-09-14 19:36:...|2025-08-24 21:27:...|\n",
      "|       6|        1|    Juan Pérez|juan.perez@email.com| 80.00| 2025-09-06|2025-09-14 19:36:...|2025-08-24 21:27:...|\n",
      "|       7|        2|   María López|maria22.nueva@ema...| 60.00| 2025-09-07|2025-09-14 19:36:...|2025-08-24 21:27:...|\n",
      "|       8|        3|   Carlos Ruiz|carlos.ruiz@email...| 90.00| 2025-09-08|2025-09-14 19:36:...|2025-08-24 21:27:...|\n",
      "|       9|        4|    Ana Torres|ana.torres@email.com|110.00| 2025-09-09|2025-09-14 19:36:...|2025-08-24 21:27:...|\n",
      "|      10|        5|   Pedro Gómez|pedro.gomez@email...| 75.00| 2025-09-10|2025-09-14 19:36:...|2025-08-24 21:27:...|\n",
      "|      11|        7|     leo Pérez| leo.perez@email.com| 95.00| 2025-09-11|2025-09-14 19:36:...|2025-08-29 19:50:...|\n",
      "|      11|        7|     leo Pérez| leo.perez@email.com| 95.00| 2025-09-11|2025-09-14 19:36:...|2025-08-29 19:50:...|\n",
      "|      12|        8|      Juan Per|  juan.pez@email.com|180.00| 2025-09-12|2025-09-14 19:36:...|2025-09-10 19:41:...|\n",
      "|      13|        9|       Maria L|  ma.lopez@email.com|210.00| 2025-09-13|2025-09-14 19:36:...|2025-09-10 19:41:...|\n",
      "|      14|       10|       san Per|juan11.pez@email.com| 50.00| 2025-09-14|2025-09-14 19:36:...|2025-09-10 21:51:...|\n",
      "|      15|       11|   san maria L|ma222.lopez@email...| 60.00| 2025-09-14|2025-09-14 19:36:...|2025-09-10 21:51:...|\n",
      "|      16|       12|          dary|  dary.pez@email.com| 70.00| 2025-09-12|2025-09-14 19:36:...|2025-09-10 22:19:...|\n",
      "|      17|       13|  leodan toala|juan.toala@email.com|200.00| 2025-09-13|2025-09-14 19:36:...|2025-09-11 16:02:...|\n",
      "|      18|       14|fabricio total|maria.totala@emai...|130.00| 2025-09-10|2025-09-14 19:36:...|2025-09-11 16:03:...|\n",
      "|      19|       15|   Carlos Ruiz|carlos.toala@emai...| 90.00| 2025-09-11|2025-09-14 19:36:...|2025-09-11 16:03:...|\n",
      "+--------+---------+--------------+--------------------+------+-----------+--------------------+--------------------+\n",
      "only showing top 20 rows\n",
      "\n"
     ]
    }
   ],
   "source": [
    "join_pedidos_df.show()"
   ]
  },
  {
   "cell_type": "code",
   "execution_count": 20,
   "id": "16e60577",
   "metadata": {},
   "outputs": [
    {
     "name": "stderr",
     "output_type": "stream",
     "text": [
      "                                                                                \r"
     ]
    }
   ],
   "source": [
    "join_pedidos_df.write.mode(\"overwrite\").parquet(\"hdfs://namenode:8020/silver/pedidos\")"
   ]
  },
  {
   "cell_type": "code",
   "execution_count": 22,
   "id": "4154bcd0",
   "metadata": {},
   "outputs": [
    {
     "name": "stdout",
     "output_type": "stream",
     "text": [
      "+--------+---------+--------------+--------------------+------+-----------+--------------------+--------------------+\n",
      "|PedidoID|ClienteID|        Nombre|               Email| Monto|FechaPedido|    PedidoCreateTime|   ClienteCreateTime|\n",
      "+--------+---------+--------------+--------------------+------+-----------+--------------------+--------------------+\n",
      "|       1|        1|    Juan Pérez|juan.perez@email.com|150.50| 2025-09-01|2025-09-14 19:36:...|2025-08-24 21:27:...|\n",
      "|       2|        2|   María López|maria22.nueva@ema...|200.00| 2025-09-02|2025-09-14 19:36:...|2025-08-24 21:27:...|\n",
      "|       3|        3|   Carlos Ruiz|carlos.ruiz@email...| 50.00| 2025-09-03|2025-09-14 19:36:...|2025-08-24 21:27:...|\n",
      "|       4|        4|    Ana Torres|ana.torres@email.com|300.00| 2025-09-04|2025-09-14 19:36:...|2025-08-24 21:27:...|\n",
      "|       5|        5|   Pedro Gómez|pedro.gomez@email...|120.00| 2025-09-05|2025-09-14 19:36:...|2025-08-24 21:27:...|\n",
      "|       6|        1|    Juan Pérez|juan.perez@email.com| 80.00| 2025-09-06|2025-09-14 19:36:...|2025-08-24 21:27:...|\n",
      "|       7|        2|   María López|maria22.nueva@ema...| 60.00| 2025-09-07|2025-09-14 19:36:...|2025-08-24 21:27:...|\n",
      "|       8|        3|   Carlos Ruiz|carlos.ruiz@email...| 90.00| 2025-09-08|2025-09-14 19:36:...|2025-08-24 21:27:...|\n",
      "|       9|        4|    Ana Torres|ana.torres@email.com|110.00| 2025-09-09|2025-09-14 19:36:...|2025-08-24 21:27:...|\n",
      "|      10|        5|   Pedro Gómez|pedro.gomez@email...| 75.00| 2025-09-10|2025-09-14 19:36:...|2025-08-24 21:27:...|\n",
      "|      11|        7|     leo Pérez| leo.perez@email.com| 95.00| 2025-09-11|2025-09-14 19:36:...|2025-08-29 19:50:...|\n",
      "|      11|        7|     leo Pérez| leo.perez@email.com| 95.00| 2025-09-11|2025-09-14 19:36:...|2025-08-29 19:50:...|\n",
      "|      12|        8|      Juan Per|  juan.pez@email.com|180.00| 2025-09-12|2025-09-14 19:36:...|2025-09-10 19:41:...|\n",
      "|      13|        9|       Maria L|  ma.lopez@email.com|210.00| 2025-09-13|2025-09-14 19:36:...|2025-09-10 19:41:...|\n",
      "|      14|       10|       san Per|juan11.pez@email.com| 50.00| 2025-09-14|2025-09-14 19:36:...|2025-09-10 21:51:...|\n",
      "|      15|       11|   san maria L|ma222.lopez@email...| 60.00| 2025-09-14|2025-09-14 19:36:...|2025-09-10 21:51:...|\n",
      "|      16|       12|          dary|  dary.pez@email.com| 70.00| 2025-09-12|2025-09-14 19:36:...|2025-09-10 22:19:...|\n",
      "|      17|       13|  leodan toala|juan.toala@email.com|200.00| 2025-09-13|2025-09-14 19:36:...|2025-09-11 16:02:...|\n",
      "|      18|       14|fabricio total|maria.totala@emai...|130.00| 2025-09-10|2025-09-14 19:36:...|2025-09-11 16:03:...|\n",
      "|      19|       15|   Carlos Ruiz|carlos.toala@emai...| 90.00| 2025-09-11|2025-09-14 19:36:...|2025-09-11 16:03:...|\n",
      "+--------+---------+--------------+--------------------+------+-----------+--------------------+--------------------+\n",
      "only showing top 20 rows\n",
      "\n"
     ]
    }
   ],
   "source": [
    "df= spark.read.parquet(\"hdfs://namenode:8020/silver/pedidos\")\n",
    "df.show()"
   ]
  },
  {
   "cell_type": "code",
   "execution_count": 24,
   "id": "d98388e6",
   "metadata": {},
   "outputs": [
    {
     "name": "stdout",
     "output_type": "stream",
     "text": [
      "+--------+---------+-----------+--------------------+------+-----------+--------------------+--------------------+\n",
      "|PedidoID|ClienteID|     Nombre|               Email| Monto|FechaPedido|    PedidoCreateTime|   ClienteCreateTime|\n",
      "+--------+---------+-----------+--------------------+------+-----------+--------------------+--------------------+\n",
      "|       1|        1| Juan Pérez|juan.perez@email.com|150.50| 2025-09-01|2025-09-14 19:36:...|2025-08-24 21:27:...|\n",
      "|       2|        2|María López|maria22.nueva@ema...|200.00| 2025-09-02|2025-09-14 19:36:...|2025-08-24 21:27:...|\n",
      "+--------+---------+-----------+--------------------+------+-----------+--------------------+--------------------+\n",
      "only showing top 2 rows\n",
      "\n"
     ]
    }
   ],
   "source": [
    "df.show(2)"
   ]
  },
  {
   "cell_type": "code",
   "execution_count": null,
   "id": "105258db",
   "metadata": {},
   "outputs": [
    {
     "data": {
      "text/plain": [
       "21"
      ]
     },
     "execution_count": 25,
     "metadata": {},
     "output_type": "execute_result"
    }
   ],
   "source": [
    "#contar filas\n",
    "df.count()"
   ]
  },
  {
   "cell_type": "code",
   "execution_count": null,
   "id": "d9593d12",
   "metadata": {},
   "outputs": [
    {
     "name": "stdout",
     "output_type": "stream",
     "text": [
      "+--------+-----+\n",
      "|PedidoID|count|\n",
      "+--------+-----+\n",
      "|      12|    1|\n",
      "|       1|    1|\n",
      "|      13|    1|\n",
      "|       6|    1|\n",
      "|      16|    1|\n",
      "|       3|    1|\n",
      "|      20|    1|\n",
      "|       5|    1|\n",
      "|      19|    1|\n",
      "|      15|    1|\n",
      "|       9|    1|\n",
      "|      17|    1|\n",
      "|       4|    1|\n",
      "|       8|    1|\n",
      "|       7|    1|\n",
      "|      10|    1|\n",
      "|      11|    2|\n",
      "|      14|    1|\n",
      "|       2|    1|\n",
      "|      18|    1|\n",
      "+--------+-----+\n",
      "\n"
     ]
    }
   ],
   "source": [
    "#contar por grupos\n",
    "df.groupBy(\"PedidoID\").count().show()"
   ]
  },
  {
   "cell_type": "code",
   "execution_count": 32,
   "id": "11f2e02f",
   "metadata": {},
   "outputs": [
    {
     "data": {
      "text/plain": [
       "8"
      ]
     },
     "execution_count": 32,
     "metadata": {},
     "output_type": "execute_result"
    }
   ],
   "source": [
    "len(df.columns)"
   ]
  }
 ],
 "metadata": {
  "kernelspec": {
   "display_name": "Python 3 (ipykernel)",
   "language": "python",
   "name": "python3"
  },
  "language_info": {
   "codemirror_mode": {
    "name": "ipython",
    "version": 3
   },
   "file_extension": ".py",
   "mimetype": "text/x-python",
   "name": "python",
   "nbconvert_exporter": "python",
   "pygments_lexer": "ipython3",
   "version": "3.7.12"
  }
 },
 "nbformat": 4,
 "nbformat_minor": 5
}

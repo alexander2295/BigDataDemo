{
 "cells": [
  {
   "cell_type": "code",
   "execution_count": 2,
   "id": "8a0df871",
   "metadata": {},
   "outputs": [],
   "source": [
    "###Este modulo es de Sesion de spark###\n"
   ]
  },
  {
   "cell_type": "code",
   "execution_count": null,
   "id": "b8bc1615",
   "metadata": {},
   "outputs": [],
   "source": [
    "from pyspark.sql import SparkSession\n",
    " \n",
    "def get_spark(app_name=\"Validacion-Spark-HDFS-Dary\"):\n",
    "    \"\"\"\n",
    "    Inicia una SparkSession configurada para el clúster y con el driver JDBC de SQL Server.\n",
    "    Retorna: SparkSession activa\n",
    "    \"\"\"\n",
    "    # Intentar cerrar sesión previa si existe\n",
    "    try:\n",
    "        spark.stop()\n",
    "        print(\"✅ Sesión anterior cerrada\")\n",
    "    except:\n",
    "        print(\"ℹ️ No había sesión previa\")\n",
    "\n",
    "    # Crear nueva sesión con configuraciones del clúster y JDBC\n",
    "    spark = (SparkSession.builder\n",
    "        .appName(app_name)\n",
    "        .master(\"spark://spark-master:7077\")  # Conexión al master\n",
    "        .config(\"spark.executor.instances\", \"2\")\n",
    "        .config(\"spark.executor.cores\", \"2\")\n",
    "        .config(\"spark.executor.memory\", \"3g\")\n",
    "        .config(\"spark.driver.memory\", \"2g\")\n",
    "        .config(\"spark.jars\", \"/opt/spark/jars/mssql-jdbc-13.2.0.jre8.jar\")\n",
    "        .config(\"spark.driver.extraClassPath\", \"/opt/spark/jars/mssql-jdbc-13.2.0.jre8.jar\")\n",
    "        .config(\"spark.executor.extraClassPath\", \"/opt/spark/jars/mssql-jdbc-13.2.0.jre8.jar\")\n",
    "        .enableHiveSupport()\n",
    "        .getOrCreate())\n",
    "\n",
    "    print(\"✅ Spark version:\", spark.version)\n",
    "    print(\"✅ Master URL:\", spark.sparkContext.master)\n",
    "    print(\"✅ Spark reiniciado con driver JDBC\")\n",
    "\n",
    "    return spark\n"
   ]
  },
  {
   "cell_type": "code",
   "execution_count": 12,
   "id": "7d854d7f",
   "metadata": {},
   "outputs": [],
   "source": [
    "spark.stop()"
   ]
  }
 ],
 "metadata": {
  "kernelspec": {
   "display_name": "Python 3 (ipykernel)",
   "language": "python",
   "name": "python3"
  },
  "language_info": {
   "codemirror_mode": {
    "name": "ipython",
    "version": 3
   },
   "file_extension": ".py",
   "mimetype": "text/x-python",
   "name": "python",
   "nbconvert_exporter": "python",
   "pygments_lexer": "ipython3",
   "version": "3.7.12"
  }
 },
 "nbformat": 4,
 "nbformat_minor": 5
}
